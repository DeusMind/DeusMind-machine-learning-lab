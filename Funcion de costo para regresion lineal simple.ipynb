{
  "metadata": {
    "kernelspec": {
      "name": "xpython",
      "display_name": "Python 3.13 (XPython)",
      "language": "python"
    },
    "language_info": {
      "file_extension": ".py",
      "mimetype": "text/x-python",
      "name": "python",
      "version": "3.13.1"
    }
  },
  "nbformat_minor": 5,
  "nbformat": 4,
  "cells": [
    {
      "id": "f86dcef1-94b5-4244-b083-4850a3fcc817",
      "cell_type": "code",
      "source": "import numpy as np\n\ndef compute_cost(w, b, X, y):\n    \"\"\"\n    Calcula la función de costo J(w,b) para regresión lineal.\n\n    Args:\n        w (float or np.ndarray): Peso(s) del modelo.\n        b (float): Sesgo (bias) del modelo.\n        X (np.ndarray): Matriz de características, de forma (m,) o (m, n).\n        y (np.ndarray): Vector de valores reales, de forma (m,).\n\n    Returns:\n        float: El valor de la función de costo J.\n    \"\"\"\n    m = X.shape[0]  # número de ejemplos\n    # Predicciones: f_wb(x) = w * x + b  (vectorizado)\n    y_pred = X * w + b        # si X es (m,) y w escalar\n    # y_pred = X.dot(w) + b    # si X es (m,n) y w es (n,)\n\n    # Errores: y_pred - y\n    error = y_pred - y\n\n    # Error al cuadrado\n    squared_error = error ** 2\n\n    # Costo: 1/(2m) * sum(squared_error)\n    J = (1 / (2 * m)) * np.sum(squared_error)\n\n    return J\n\n# Ejemplo de uso:\nif __name__ == \"__main__\":\n    # Datos de ejemplo\n    X = np.array([1, 2, 3])\n    y = np.array([1, 2, 3])\n\n    # Parámetros iniciales\n    w_init = 0.5\n    b_init = 0\n\n    cost = compute_cost(w_init, b_init, X, y)\n    print(f\"Costo J({w_init:.2f}, {b_init:.2f}) = {cost:.4f}\")\n\n#return J entrega el valor de J (no lo muestra).\n\n#costo = compute_cost(...) guarda ese valor devuelto.\n\n#print(costo) finalmente lo muestra.\n",
      "metadata": {
        "trusted": true
      },
      "outputs": [
        {
          "name": "stdout",
          "output_type": "stream",
          "text": "Costo J(0.50, 0.00) = 0.5833\n"
        }
      ],
      "execution_count": 2
    },
    {
      "id": "faa4f02e-b26f-42b4-830e-d64613e78372",
      "cell_type": "code",
      "source": "",
      "metadata": {
        "trusted": true
      },
      "outputs": [],
      "execution_count": null
    }
  ]
}